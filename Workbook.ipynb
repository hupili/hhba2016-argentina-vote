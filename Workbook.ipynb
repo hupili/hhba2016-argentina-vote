{
 "cells": [
  {
   "cell_type": "code",
   "execution_count": 1,
   "metadata": {
    "collapsed": false
   },
   "outputs": [],
   "source": [
    "from IPython.core.display import HTML\n",
    "import requests\n",
    "import pandas as pd\n",
    "import numpy as np\n",
    "import matplotlib\n",
    "from matplotlib import pyplot as plt\n",
    "import datetime\n",
    "import seaborn as sns\n",
    "from dateutil import parser\n",
    "import pytz\n",
    "import pylab as pl\n",
    "from pyquery import PyQuery as pq\n",
    "import numpy as np\n",
    "import scipy\n",
    "import pandas as pd\n",
    "from lxml import etree\n",
    "import os\n",
    "from os import path\n",
    "from pprint import pprint\n",
    "import dateutil\n",
    "import json\n",
    "%matplotlib inline"
   ]
  },
  {
   "cell_type": "code",
   "execution_count": 2,
   "metadata": {
    "collapsed": false
   },
   "outputs": [
    {
     "data": {
      "text/plain": [
       "\"\\nall_motions_json = []\\n\\nprefix='http://votaciones.lanacion.com.ar/api/votacion'\\nfor i in range(1, 637+1):\\n    url = '%s/%s' % (prefix, i)\\n    res = requests.get(url)\\n    try:\\n        j = res.json()\\n        all_motions_json.append(j)\\n        print('ok:', i)\\n    except:\\n        print('erorr:', i)\\n\""
      ]
     },
     "execution_count": 2,
     "metadata": {},
     "output_type": "execute_result"
    }
   ],
   "source": [
    "#import requests\n",
    "\n",
    "'''\n",
    "all_motions_json = []\n",
    "\n",
    "prefix='http://votaciones.lanacion.com.ar/api/votacion'\n",
    "for i in range(1, 637+1):\n",
    "    url = '%s/%s' % (prefix, i)\n",
    "    res = requests.get(url)\n",
    "    try:\n",
    "        j = res.json()\n",
    "        all_motions_json.append(j)\n",
    "        print('ok:', i)\n",
    "    except:\n",
    "        print('erorr:', i)\n",
    "'''"
   ]
  },
  {
   "cell_type": "code",
   "execution_count": 3,
   "metadata": {
    "collapsed": true
   },
   "outputs": [],
   "source": [
    "all_motions_json = []\n",
    "for i in range(1, 637+1):\n",
    "    try:\n",
    "        j = json.load(open('jsons/%s.json' % i))\n",
    "        all_motions_json.append(j)\n",
    "    except:\n",
    "        pass"
   ]
  },
  {
   "cell_type": "code",
   "execution_count": 4,
   "metadata": {
    "collapsed": false
   },
   "outputs": [
    {
     "data": {
      "text/plain": [
       "'01/07/2016'"
      ]
     },
     "execution_count": 4,
     "metadata": {},
     "output_type": "execute_result"
    }
   ],
   "source": [
    "j['fecha']"
   ]
  },
  {
   "cell_type": "code",
   "execution_count": 5,
   "metadata": {
    "collapsed": false
   },
   "outputs": [],
   "source": [
    "#all_motions_json"
   ]
  },
  {
   "cell_type": "code",
   "execution_count": 52,
   "metadata": {
    "collapsed": false
   },
   "outputs": [],
   "source": [
    "#df_votes = pd.DataFrame(index=s.index)\n",
    "s = df_votes['partido'].value_counts()\n",
    "df_party_counts = pd.DataFrame(df_votes['partido'].value_counts()).reset_index()\n",
    "df_party_counts.columns = ['party', 'count']"
   ]
  },
  {
   "cell_type": "code",
   "execution_count": 54,
   "metadata": {
    "collapsed": false
   },
   "outputs": [],
   "source": [
    "df_party_counts.to_csv('data/party-count.csv')"
   ]
  },
  {
   "cell_type": "code",
   "execution_count": 8,
   "metadata": {
    "collapsed": false
   },
   "outputs": [],
   "source": [
    "s_votes = []\n",
    "\n",
    "for m in all_motions_json:\n",
    "    v = m['votos']\n",
    "    s = pd.DataFrame(v)\n",
    "    s['sesion_id'] = m['sesion_id']\n",
    "    s['datestr'] = m['fecha']\n",
    "    s = s.set_index(['legislador_id', 'sesion_id'])\n",
    "    s_votes.append(s)"
   ]
  },
  {
   "cell_type": "code",
   "execution_count": 9,
   "metadata": {
    "collapsed": false
   },
   "outputs": [],
   "source": [
    "df_votes = pd.concat(s_votes)"
   ]
  },
  {
   "cell_type": "code",
   "execution_count": 10,
   "metadata": {
    "collapsed": false
   },
   "outputs": [],
   "source": [
    "def vote_to_number(v):\n",
    "    MAPPING = {\n",
    "        'AFIRMATIVO': 1, # Yes\n",
    "        'AUSENTE': 0, # Absent, did not come to the session\n",
    "        'NEGATIVO': -1, # No\n",
    "        'ABSTENCION': 0, # person is present, but not vote\n",
    "    }\n",
    "    return MAPPING.get(v, 0)\n",
    "    \n",
    "df_votes['vote-value'] = df_votes['voto'].apply(vote_to_number)"
   ]
  },
  {
   "cell_type": "code",
   "execution_count": 11,
   "metadata": {
    "collapsed": false
   },
   "outputs": [],
   "source": [
    "from datetime import date\n",
    "\n",
    "df_votes['date'] = df_votes['datestr'].apply(lambda x: date(\n",
    "        int(x.split('/')[2]), \n",
    "        int(x.split('/')[1]), \n",
    "        int(x.split('/')[0])\n",
    "    ))\n",
    "df_votes['datetime'] = df_votes['date'].apply(lambda d: datetime.datetime(*d.timetuple()[:7]))"
   ]
  },
  {
   "cell_type": "code",
   "execution_count": 12,
   "metadata": {
    "collapsed": false
   },
   "outputs": [],
   "source": [
    "#df_votes['date']\n",
    "#10/12/2013 - 10/12/2015"
   ]
  },
  {
   "cell_type": "code",
   "execution_count": 42,
   "metadata": {
    "collapsed": false
   },
   "outputs": [],
   "source": [
    "#df_matrix"
   ]
  },
  {
   "cell_type": "code",
   "execution_count": 13,
   "metadata": {
    "collapsed": false
   },
   "outputs": [
    {
     "data": {
      "text/plain": [
       "93330"
      ]
     },
     "execution_count": 13,
     "metadata": {},
     "output_type": "execute_result"
    }
   ],
   "source": [
    "len(df_votes)"
   ]
  },
  {
   "cell_type": "code",
   "execution_count": 26,
   "metadata": {
    "collapsed": false
   },
   "outputs": [],
   "source": [
    "df_votes.to_csv('data/votes.csv')"
   ]
  },
  {
   "cell_type": "code",
   "execution_count": 172,
   "metadata": {
    "collapsed": false
   },
   "outputs": [
    {
     "name": "stdout",
     "output_type": "stream",
     "text": [
      "1131\n",
      "648\n"
     ]
    }
   ],
   "source": [
    "df_member_profile = df_votes.reset_index()[['legislador_id', 'agrupacion', 'agrupacion_color', 'camara', 'mail', 'nombre', 'partido']].drop_duplicates()\n",
    "print(len(df_member_profile))\n",
    "df_member_profile = df_member_profile.drop_duplicates('legislador_id')\n",
    "print(len(df_member_profile))\n",
    "df_member_profile.to_csv('data/member-profile.csv')"
   ]
  },
  {
   "cell_type": "code",
   "execution_count": 121,
   "metadata": {
    "collapsed": false
   },
   "outputs": [],
   "source": [
    "#df_member_profile"
   ]
  },
  {
   "cell_type": "code",
   "execution_count": 75,
   "metadata": {
    "collapsed": false
   },
   "outputs": [
    {
     "data": {
      "text/html": [
       "<div>\n",
       "<table border=\"1\" class=\"dataframe\">\n",
       "  <thead>\n",
       "    <tr style=\"text-align: right;\">\n",
       "      <th></th>\n",
       "      <th>legislador_id</th>\n",
       "      <th>agrupacion</th>\n",
       "      <th>agrupacion_color</th>\n",
       "      <th>camara</th>\n",
       "      <th>mail</th>\n",
       "      <th>nombre</th>\n",
       "      <th>partido</th>\n",
       "    </tr>\n",
       "  </thead>\n",
       "  <tbody>\n",
       "    <tr>\n",
       "      <th>48160</th>\n",
       "      <td>738</td>\n",
       "      <td>Massismo y aliados</td>\n",
       "      <td>#b185b7</td>\n",
       "      <td>diputados</td>\n",
       "      <td>mtundis@diputados.gob.ar</td>\n",
       "      <td>TUNDIS,  MIRTA</td>\n",
       "      <td>FRENTE RENOVADOR</td>\n",
       "    </tr>\n",
       "    <tr>\n",
       "      <th>87672</th>\n",
       "      <td>738</td>\n",
       "      <td>Massismo y aliados</td>\n",
       "      <td>#b185b7</td>\n",
       "      <td>diputados</td>\n",
       "      <td>mtundis@diputados.gob.ar</td>\n",
       "      <td>TUNDIS,  MIRTA</td>\n",
       "      <td>FEDERAL UNIDOS POR UNA NUEVA ARGENTINA</td>\n",
       "    </tr>\n",
       "  </tbody>\n",
       "</table>\n",
       "</div>"
      ],
      "text/plain": [
       "       legislador_id          agrupacion agrupacion_color     camara  \\\n",
       "48160            738  Massismo y aliados          #b185b7  diputados   \n",
       "87672            738  Massismo y aliados          #b185b7  diputados   \n",
       "\n",
       "                           mail          nombre  \\\n",
       "48160  mtundis@diputados.gob.ar  TUNDIS,  MIRTA   \n",
       "87672  mtundis@diputados.gob.ar  TUNDIS,  MIRTA   \n",
       "\n",
       "                                      partido  \n",
       "48160                        FRENTE RENOVADOR  \n",
       "87672  FEDERAL UNIDOS POR UNA NUEVA ARGENTINA  "
      ]
     },
     "execution_count": 75,
     "metadata": {},
     "output_type": "execute_result"
    }
   ],
   "source": [
    "df_member_profile[\n",
    "    df_member_profile['legislador_id'] == 738\n",
    "]"
   ]
  },
  {
   "cell_type": "code",
   "execution_count": 76,
   "metadata": {
    "collapsed": false
   },
   "outputs": [
    {
     "data": {
      "text/html": [
       "<div>\n",
       "<table border=\"1\" class=\"dataframe\">\n",
       "  <thead>\n",
       "    <tr style=\"text-align: right;\">\n",
       "      <th></th>\n",
       "      <th>agrupacion</th>\n",
       "      <th>agrupacion_color</th>\n",
       "      <th>camara</th>\n",
       "      <th>mail</th>\n",
       "      <th>nombre</th>\n",
       "      <th>partido</th>\n",
       "    </tr>\n",
       "    <tr>\n",
       "      <th>legislador_id</th>\n",
       "      <th></th>\n",
       "      <th></th>\n",
       "      <th></th>\n",
       "      <th></th>\n",
       "      <th></th>\n",
       "      <th></th>\n",
       "    </tr>\n",
       "  </thead>\n",
       "  <tbody>\n",
       "    <tr>\n",
       "      <th>738</th>\n",
       "      <td>Massismo y aliados</td>\n",
       "      <td>#b185b7</td>\n",
       "      <td>diputados</td>\n",
       "      <td>mtundis@diputados.gob.ar</td>\n",
       "      <td>TUNDIS,  MIRTA</td>\n",
       "      <td>FRENTE RENOVADOR</td>\n",
       "    </tr>\n",
       "    <tr>\n",
       "      <th>738</th>\n",
       "      <td>Massismo y aliados</td>\n",
       "      <td>#b185b7</td>\n",
       "      <td>diputados</td>\n",
       "      <td>mtundis@diputados.gob.ar</td>\n",
       "      <td>TUNDIS,  MIRTA</td>\n",
       "      <td>FEDERAL UNIDOS POR UNA NUEVA ARGENTINA</td>\n",
       "    </tr>\n",
       "  </tbody>\n",
       "</table>\n",
       "</div>"
      ],
      "text/plain": [
       "                       agrupacion agrupacion_color     camara  \\\n",
       "legislador_id                                                   \n",
       "738            Massismo y aliados          #b185b7  diputados   \n",
       "738            Massismo y aliados          #b185b7  diputados   \n",
       "\n",
       "                                   mail          nombre  \\\n",
       "legislador_id                                             \n",
       "738            mtundis@diputados.gob.ar  TUNDIS,  MIRTA   \n",
       "738            mtundis@diputados.gob.ar  TUNDIS,  MIRTA   \n",
       "\n",
       "                                              partido  \n",
       "legislador_id                                          \n",
       "738                                  FRENTE RENOVADOR  \n",
       "738            FEDERAL UNIDOS POR UNA NUEVA ARGENTINA  "
      ]
     },
     "execution_count": 76,
     "metadata": {},
     "output_type": "execute_result"
    }
   ],
   "source": [
    "df_member_profile.set_index('legislador_id').ix[738]"
   ]
  },
  {
   "cell_type": "code",
   "execution_count": 67,
   "metadata": {
    "collapsed": false
   },
   "outputs": [],
   "source": [
    "#df_member_profile"
   ]
  },
  {
   "cell_type": "code",
   "execution_count": 14,
   "metadata": {
    "collapsed": false
   },
   "outputs": [],
   "source": [
    "df_selected_votes = df_votes[\n",
    "    (df_votes['date'] >= date(2013, 12, 12))\n",
    "    &\n",
    "    (df_votes['date'] <= date(2015, 12, 12))\n",
    "]"
   ]
  },
  {
   "cell_type": "code",
   "execution_count": 15,
   "metadata": {
    "collapsed": false
   },
   "outputs": [
    {
     "data": {
      "text/plain": [
       "37379"
      ]
     },
     "execution_count": 15,
     "metadata": {},
     "output_type": "execute_result"
    }
   ],
   "source": [
    "len(df_selected_votes)"
   ]
  },
  {
   "cell_type": "code",
   "execution_count": 16,
   "metadata": {
    "collapsed": false
   },
   "outputs": [],
   "source": [
    "df_votes_brief = df_selected_votes[['voto', 'vote-value']]"
   ]
  },
  {
   "cell_type": "code",
   "execution_count": 17,
   "metadata": {
    "collapsed": false
   },
   "outputs": [
    {
     "data": {
      "text/plain": [
       "AFIRMATIVO    25638\n",
       "AUSENTE        7516\n",
       "NEGATIVO       3241\n",
       "ABSTENCION      984\n",
       "Name: voto, dtype: int64"
      ]
     },
     "execution_count": 17,
     "metadata": {},
     "output_type": "execute_result"
    }
   ],
   "source": [
    "df_votes_brief['voto'].value_counts()"
   ]
  },
  {
   "cell_type": "code",
   "execution_count": 86,
   "metadata": {
    "collapsed": false
   },
   "outputs": [],
   "source": [
    "df_matrix = df_votes_brief.reset_index().pivot(index='legislador_id', columns='sesion_id', values='vote-value')"
   ]
  },
  {
   "cell_type": "code",
   "execution_count": 87,
   "metadata": {
    "collapsed": false
   },
   "outputs": [],
   "source": [
    "df_matrix = df_matrix.fillna(0)"
   ]
  },
  {
   "cell_type": "code",
   "execution_count": 88,
   "metadata": {
    "collapsed": false
   },
   "outputs": [],
   "source": [
    "df_matrix.to_csv('data/matrix-2013-2015.csv')"
   ]
  },
  {
   "cell_type": "code",
   "execution_count": 89,
   "metadata": {
    "collapsed": true
   },
   "outputs": [],
   "source": [
    "X = np.matrix(df_matrix.fillna(0).as_matrix()).astype('int8')"
   ]
  },
  {
   "cell_type": "code",
   "execution_count": 90,
   "metadata": {
    "collapsed": true
   },
   "outputs": [],
   "source": [
    "from sklearn.decomposition import PCA\n",
    "pca = PCA(n_components=3)\n",
    "X_reduced = pca.fit_transform(X)\n",
    "df_pc = pd.DataFrame(X_reduced, index=df_matrix.index, columns=['PC1', 'PC2', 'PC3'])"
   ]
  },
  {
   "cell_type": "code",
   "execution_count": 101,
   "metadata": {
    "collapsed": false
   },
   "outputs": [
    {
     "data": {
      "text/plain": [
       "array([ 28.22993681,   3.62389691,   1.95130054])"
      ]
     },
     "execution_count": 101,
     "metadata": {},
     "output_type": "execute_result"
    }
   ],
   "source": [
    "pca.explained_variance_"
   ]
  },
  {
   "cell_type": "markdown",
   "metadata": {},
   "source": [
    "Watch out:\n",
    "* The explained variance by PC1 to PC3 is very small in this data set\n",
    "* The data set is highly non-linear"
   ]
  },
  {
   "cell_type": "code",
   "execution_count": 91,
   "metadata": {
    "collapsed": false
   },
   "outputs": [
    {
     "data": {
      "text/plain": [
       "<matplotlib.axes._subplots.AxesSubplot at 0x11afa7eb8>"
      ]
     },
     "execution_count": 91,
     "metadata": {},
     "output_type": "execute_result"
    },
    {
     "data": {
      "image/png": "[encoded data removed]",
      "text/plain": [
       "<matplotlib.figure.Figure at 0x115355550>"
      ]
     },
     "metadata": {},
     "output_type": "display_data"
    }
   ],
   "source": [
    "%matplotlib inline\n",
    "df_pc[['PC1', 'PC2']].plot(x='PC1', y='PC2', kind='scatter')"
   ]
  },
  {
   "cell_type": "code",
   "execution_count": 92,
   "metadata": {
    "collapsed": true
   },
   "outputs": [],
   "source": [
    "df_party_count_color = pd.read_csv('data/party-count-color.csv')"
   ]
  },
  {
   "cell_type": "code",
   "execution_count": 118,
   "metadata": {
    "collapsed": false
   },
   "outputs": [],
   "source": [
    "#df_member_profile = df_member_profile.set_index('legislador_id')"
   ]
  },
  {
   "cell_type": "code",
   "execution_count": 97,
   "metadata": {
    "collapsed": false
   },
   "outputs": [
    {
     "data": {
      "text/plain": [
       "264"
      ]
     },
     "execution_count": 97,
     "metadata": {},
     "output_type": "execute_result"
    }
   ],
   "source": [
    "len(df_pc)"
   ]
  },
  {
   "cell_type": "code",
   "execution_count": 96,
   "metadata": {
    "collapsed": false
   },
   "outputs": [
    {
     "data": {
      "text/plain": [
       "1131"
      ]
     },
     "execution_count": 96,
     "metadata": {},
     "output_type": "execute_result"
    }
   ],
   "source": [
    "len(df_member_profile)"
   ]
  },
  {
   "cell_type": "code",
   "execution_count": 135,
   "metadata": {
    "collapsed": false
   },
   "outputs": [],
   "source": [
    "#len(df_member_profile.ix[df_pc.index]['partido'])"
   ]
  },
  {
   "cell_type": "code",
   "execution_count": 115,
   "metadata": {
    "collapsed": false
   },
   "outputs": [],
   "source": [
    "#df_member_profile['partido']"
   ]
  },
  {
   "cell_type": "code",
   "execution_count": null,
   "metadata": {
    "collapsed": false
   },
   "outputs": [],
   "source": [
    "#df_member_profile.ix[1]"
   ]
  },
  {
   "cell_type": "code",
   "execution_count": 134,
   "metadata": {
    "collapsed": false
   },
   "outputs": [],
   "source": [
    "#df_member_profile[df_member_profile['legislador_id'] == 288].iloc[0]['partido']"
   ]
  },
  {
   "cell_type": "code",
   "execution_count": 133,
   "metadata": {
    "collapsed": false
   },
   "outputs": [
    {
     "data": {
      "text/plain": [
       "\"\\ndef lookup(df, column, lid):\\n    # For multiple potential values, only keep one\\n    return df[\\n        df['legislador_id'] == str(lid)\\n    ].iloc[0][column]\\ndf_plot['legislador_id'].apply(lambda x: lookup(df_member_profile, 'partido', x))\\n\""
      ]
     },
     "execution_count": 133,
     "metadata": {},
     "output_type": "execute_result"
    }
   ],
   "source": [
    "'''\n",
    "def lookup(df, column, lid):\n",
    "    # For multiple potential values, only keep one\n",
    "    return df[\n",
    "        df['legislador_id'] == str(lid)\n",
    "    ].iloc[0][column]\n",
    "df_plot['legislador_id'].apply(lambda x: lookup(df_member_profile, 'partido', x))\n",
    "'''"
   ]
  },
  {
   "cell_type": "code",
   "execution_count": 162,
   "metadata": {
    "collapsed": false
   },
   "outputs": [],
   "source": [
    "#df_mmeber_to_color = df_member_profile[['legislador_id', 'agrupacion_color']].drop_duplicates().set_index('legislador_id')"
   ]
  },
  {
   "cell_type": "code",
   "execution_count": 146,
   "metadata": {
    "collapsed": false
   },
   "outputs": [],
   "source": [
    "#df_member_profile"
   ]
  },
  {
   "cell_type": "code",
   "execution_count": 163,
   "metadata": {
    "collapsed": false
   },
   "outputs": [],
   "source": [
    "#df_plot = df_pc.reset_index()\n",
    "#df_plot"
   ]
  },
  {
   "cell_type": "code",
   "execution_count": 164,
   "metadata": {
    "collapsed": false
   },
   "outputs": [],
   "source": [
    "df_pc_member = pd.merge(df_pc.reset_index(), df_member_profile, how='left',\n",
    "                        left_on='legislador_id', right_on='legislador_id')"
   ]
  },
  {
   "cell_type": "code",
   "execution_count": 165,
   "metadata": {
    "collapsed": false
   },
   "outputs": [
    {
     "data": {
      "text/plain": [
       "264"
      ]
     },
     "execution_count": 165,
     "metadata": {},
     "output_type": "execute_result"
    }
   ],
   "source": [
    "len(df_pc_member)"
   ]
  },
  {
   "cell_type": "code",
   "execution_count": 154,
   "metadata": {
    "collapsed": false
   },
   "outputs": [
    {
     "data": {
      "text/plain": [
       "264"
      ]
     },
     "execution_count": 154,
     "metadata": {},
     "output_type": "execute_result"
    }
   ],
   "source": [
    "len(df_pc)"
   ]
  },
  {
   "cell_type": "code",
   "execution_count": 185,
   "metadata": {
    "collapsed": false
   },
   "outputs": [],
   "source": [
    "#df_pc"
   ]
  },
  {
   "cell_type": "code",
   "execution_count": 189,
   "metadata": {
    "collapsed": false
   },
   "outputs": [
    {
     "data": {
      "text/plain": [
       "<matplotlib.collections.PathCollection at 0x11f3be518>"
      ]
     },
     "execution_count": 189,
     "metadata": {},
     "output_type": "execute_result"
    },
    {
     "data": {
      "image/png": "[encoded data removed]",
      "text/plain": [
       "<matplotlib.figure.Figure at 0x11f3be5c0>"
      ]
     },
     "metadata": {},
     "output_type": "display_data"
    }
   ],
   "source": [
    "plt.scatter(1, 2)\n",
    "plt.scatter(2, 3)"
   ]
  },
  {
   "cell_type": "code",
   "execution_count": 213,
   "metadata": {
    "collapsed": false
   },
   "outputs": [
    {
     "name": "stdout",
     "output_type": "stream",
     "text": [
      "('', '')\n",
      "('Izquierda', '#D23939')\n",
      "('Kirchnerismo y aliados', '#007caf')\n",
      "('Massismo y aliados', '#b185b7')\n",
      "('Otros', '#A6A6A6')\n",
      "('Peronismo no kirchnerista', '#f6a619')\n",
      "('Pro y aliados', '#fbd95b')\n",
      "('UNEN - FAP - UCR', '#8eab35')\n"
     ]
    },
    {
     "data": {
      "text/plain": [
       "<matplotlib.text.Text at 0x11d12d518>"
      ]
     },
     "execution_count": 213,
     "metadata": {},
     "output_type": "execute_result"
    },
    {
     "data": {
      "image/png": "[encoded data removed]",
      "text/plain": [
       "<matplotlib.figure.Figure at 0x11d307278>"
      ]
     },
     "metadata": {},
     "output_type": "display_data"
    }
   ],
   "source": [
    "plt.figure(figsize=(12, 6))\n",
    "ax = plt.subplot(1, 1, 1)\n",
    "from matplotlib.colors import ColorConverter\n",
    "\n",
    "'''\n",
    "for (i, m) in df_pc_member.iterrows():\n",
    "    #print(m['PC1'])\n",
    "    ax.scatter(m['PC1'], m['PC2'], color=m['_color'])\n",
    "    #print(m)\n",
    "'''\n",
    "\n",
    "for (gname, group) in df_pc_member.groupby(['agrupacion', 'agrupacion_color']):\n",
    "    print(gname)\n",
    "    if gname == ('', ''):\n",
    "        gname = ('null', '#000000')\n",
    "    ax.scatter(group['PC1'], group['PC2'], color=gname[1], label=gname[0])\n",
    "\n",
    "plt.legend(loc='upper left')\n",
    "plt.xlabel('PC1')\n",
    "plt.ylabel('PC2')\n",
    "\n",
    "#df_pc[['PC1', 'PC2']].plot(x='PC1', y='PC2', kind='scatter')"
   ]
  },
  {
   "cell_type": "code",
   "execution_count": 234,
   "metadata": {
    "collapsed": false
   },
   "outputs": [
    {
     "data": {
      "text/plain": [
       "78026"
      ]
     },
     "execution_count": 234,
     "metadata": {},
     "output_type": "execute_result"
    }
   ],
   "source": [
    "df_pc_member['legislador_id'] = df_pc_member['legislador_id'].apply(lambda x: str(x))\n",
    "open('data/pc-member-3d.json', 'w').write(json.dumps(\n",
    "    df_pc_member.set_index('legislador_id').T.to_dict()\n",
    "    ))"
   ]
  },
  {
   "cell_type": "code",
   "execution_count": null,
   "metadata": {
    "collapsed": false
   },
   "outputs": [],
   "source": []
  },
  {
   "cell_type": "code",
   "execution_count": 222,
   "metadata": {
    "collapsed": false
   },
   "outputs": [
    {
     "data": {
      "text/html": [
       "<div>\n",
       "<table border=\"1\" class=\"dataframe\">\n",
       "  <thead>\n",
       "    <tr style=\"text-align: right;\">\n",
       "      <th></th>\n",
       "      <th>legislador_id</th>\n",
       "      <th>PC1</th>\n",
       "      <th>PC2</th>\n",
       "      <th>PC3</th>\n",
       "      <th>agrupacion</th>\n",
       "      <th>agrupacion_color</th>\n",
       "      <th>camara</th>\n",
       "      <th>mail</th>\n",
       "      <th>nombre</th>\n",
       "      <th>partido</th>\n",
       "    </tr>\n",
       "  </thead>\n",
       "  <tbody>\n",
       "    <tr>\n",
       "      <th>0</th>\n",
       "      <td>1</td>\n",
       "      <td>-0.581584</td>\n",
       "      <td>3.205870</td>\n",
       "      <td>-0.160135</td>\n",
       "      <td>Kirchnerismo y aliados</td>\n",
       "      <td>#007caf</td>\n",
       "      <td>diputados</td>\n",
       "      <td>nabdaladem@diputados.gob.ar</td>\n",
       "      <td>Abdala de Matarazzo,  Norma Amanda</td>\n",
       "      <td>FRENTE CÍVICO POR SANTIAGO</td>\n",
       "    </tr>\n",
       "    <tr>\n",
       "      <th>1</th>\n",
       "      <td>8</td>\n",
       "      <td>5.984325</td>\n",
       "      <td>1.039177</td>\n",
       "      <td>-1.520055</td>\n",
       "      <td>UNEN - FAP - UCR</td>\n",
       "      <td>#8eab35</td>\n",
       "      <td>diputados</td>\n",
       "      <td>oaguad@diputados.gob.ar</td>\n",
       "      <td>Aguad,  Oscar Raúl</td>\n",
       "      <td>UNIÓN CÍVICA RADICAL</td>\n",
       "    </tr>\n",
       "    <tr>\n",
       "      <th>2</th>\n",
       "      <td>10</td>\n",
       "      <td>3.960056</td>\n",
       "      <td>-0.156964</td>\n",
       "      <td>0.767200</td>\n",
       "      <td>Peronismo no kirchnerista</td>\n",
       "      <td>#f6a619</td>\n",
       "      <td>diputados</td>\n",
       "      <td>laguilar@diputados.gob.ar</td>\n",
       "      <td>AGUILAR,  Lino Walter</td>\n",
       "      <td>FRENTE PERONISTA</td>\n",
       "    </tr>\n",
       "    <tr>\n",
       "      <th>3</th>\n",
       "      <td>19</td>\n",
       "      <td>5.452833</td>\n",
       "      <td>-1.578642</td>\n",
       "      <td>-0.600426</td>\n",
       "      <td>UNEN - FAP - UCR</td>\n",
       "      <td>#8eab35</td>\n",
       "      <td>diputados</td>\n",
       "      <td>ralfonsin@diputados.gob.ar</td>\n",
       "      <td>ALFONSÍN,  Ricardo Luis</td>\n",
       "      <td>UNIÓN CÍVICA RADICAL</td>\n",
       "    </tr>\n",
       "    <tr>\n",
       "      <th>4</th>\n",
       "      <td>22</td>\n",
       "      <td>6.595750</td>\n",
       "      <td>2.366079</td>\n",
       "      <td>2.555453</td>\n",
       "      <td>Pro y aliados</td>\n",
       "      <td>#fbd95b</td>\n",
       "      <td>diputados</td>\n",
       "      <td>lalonso@diputados.gob.ar</td>\n",
       "      <td>ALONSO,  Laura</td>\n",
       "      <td>PRO</td>\n",
       "    </tr>\n",
       "    <tr>\n",
       "      <th>5</th>\n",
       "      <td>23</td>\n",
       "      <td>-5.770926</td>\n",
       "      <td>-0.774505</td>\n",
       "      <td>0.212649</td>\n",
       "      <td>Kirchnerismo y aliados</td>\n",
       "      <td>#007caf</td>\n",
       "      <td>diputados</td>\n",
       "      <td>malonso@diputados.gob.ar</td>\n",
       "      <td>ALONSO,  María Luz</td>\n",
       "      <td>FRENTE PARA LA VICTORIA</td>\n",
       "    </tr>\n",
       "    <tr>\n",
       "      <th>6</th>\n",
       "      <td>38</td>\n",
       "      <td>4.636692</td>\n",
       "      <td>-0.676913</td>\n",
       "      <td>-1.173376</td>\n",
       "      <td>UNEN - FAP - UCR</td>\n",
       "      <td>#8eab35</td>\n",
       "      <td>diputados</td>\n",
       "      <td>aargumedo@diputados.gob.ar</td>\n",
       "      <td>ARGUMEDO,  Alcira Susana</td>\n",
       "      <td>PROYECTO SUR</td>\n",
       "    </tr>\n",
       "    <tr>\n",
       "      <th>7</th>\n",
       "      <td>40</td>\n",
       "      <td>-4.400734</td>\n",
       "      <td>-0.719819</td>\n",
       "      <td>0.666265</td>\n",
       "      <td>Kirchnerismo y aliados</td>\n",
       "      <td>#007caf</td>\n",
       "      <td>diputados</td>\n",
       "      <td>aarregui@diputados.gob.ar</td>\n",
       "      <td>ARREGUI,  Andrés Roberto</td>\n",
       "      <td>FRENTE PARA LA VICTORIA</td>\n",
       "    </tr>\n",
       "    <tr>\n",
       "      <th>8</th>\n",
       "      <td>45</td>\n",
       "      <td>4.639838</td>\n",
       "      <td>3.211533</td>\n",
       "      <td>-0.393616</td>\n",
       "      <td>Massismo y aliados</td>\n",
       "      <td>#b185b7</td>\n",
       "      <td>diputados</td>\n",
       "      <td>aasseff@diputados.gob.ar</td>\n",
       "      <td>ASSEFF,  Alberto Emilio</td>\n",
       "      <td>FRENTE PERONISTA</td>\n",
       "    </tr>\n",
       "    <tr>\n",
       "      <th>9</th>\n",
       "      <td>48</td>\n",
       "      <td>-5.480399</td>\n",
       "      <td>-0.799735</td>\n",
       "      <td>-0.190062</td>\n",
       "      <td>Kirchnerismo y aliados</td>\n",
       "      <td>#007caf</td>\n",
       "      <td>diputados</td>\n",
       "      <td>havoscan@diputados.gob.ar</td>\n",
       "      <td>AVOSCÁN,  Herman</td>\n",
       "      <td>FRENTE PARA LA VICTORIA</td>\n",
       "    </tr>\n",
       "    <tr>\n",
       "      <th>10</th>\n",
       "      <td>52</td>\n",
       "      <td>-5.231306</td>\n",
       "      <td>0.080842</td>\n",
       "      <td>-0.121284</td>\n",
       "      <td>Kirchnerismo y aliados</td>\n",
       "      <td>#007caf</td>\n",
       "      <td>diputados</td>\n",
       "      <td>mbalcedo@diputados.gob.ar</td>\n",
       "      <td>BALCEDO,  María Ester</td>\n",
       "      <td>FRENTE PARA LA VICTORIA</td>\n",
       "    </tr>\n",
       "    <tr>\n",
       "      <th>11</th>\n",
       "      <td>57</td>\n",
       "      <td>5.618775</td>\n",
       "      <td>-3.303442</td>\n",
       "      <td>-0.762497</td>\n",
       "      <td>UNEN - FAP - UCR</td>\n",
       "      <td>#8eab35</td>\n",
       "      <td>diputados</td>\n",
       "      <td>obarchetta@diputados.gob.ar</td>\n",
       "      <td>BARCHETTA,  Omar Segundo</td>\n",
       "      <td>PARTIDO SOCIALISTA</td>\n",
       "    </tr>\n",
       "    <tr>\n",
       "      <th>12</th>\n",
       "      <td>63</td>\n",
       "      <td>-5.734283</td>\n",
       "      <td>-0.576999</td>\n",
       "      <td>0.068810</td>\n",
       "      <td>Kirchnerismo y aliados</td>\n",
       "      <td>#007caf</td>\n",
       "      <td>diputados</td>\n",
       "      <td>lbasterra@diputados.gob.ar</td>\n",
       "      <td>BASTERRA,  Luis Eugenio</td>\n",
       "      <td>FRENTE PARA LA VICTORIA</td>\n",
       "    </tr>\n",
       "    <tr>\n",
       "      <th>13</th>\n",
       "      <td>65</td>\n",
       "      <td>5.807663</td>\n",
       "      <td>-3.615614</td>\n",
       "      <td>-0.388757</td>\n",
       "      <td>UNEN - FAP - UCR</td>\n",
       "      <td>#8eab35</td>\n",
       "      <td>diputados</td>\n",
       "      <td>mbazze@diputados.gob.ar</td>\n",
       "      <td>BAZZE,  Miguel Ángel</td>\n",
       "      <td>UNIÓN CÍVICA RADICAL</td>\n",
       "    </tr>\n",
       "    <tr>\n",
       "      <th>14</th>\n",
       "      <td>67</td>\n",
       "      <td>-5.538264</td>\n",
       "      <td>-0.555725</td>\n",
       "      <td>0.230412</td>\n",
       "      <td>Kirchnerismo y aliados</td>\n",
       "      <td>#007caf</td>\n",
       "      <td>diputados</td>\n",
       "      <td>nbedano@diputados.gob.ar</td>\n",
       "      <td>BEDANO,  Nora Esther</td>\n",
       "      <td>FRENTE PARA LA VICTORIA</td>\n",
       "    </tr>\n",
       "    <tr>\n",
       "      <th>15</th>\n",
       "      <td>80</td>\n",
       "      <td>4.313128</td>\n",
       "      <td>0.512184</td>\n",
       "      <td>0.581897</td>\n",
       "      <td>Peronismo no kirchnerista</td>\n",
       "      <td>#f6a619</td>\n",
       "      <td>diputados</td>\n",
       "      <td>ibianchi@diputados.gob.ar</td>\n",
       "      <td>BIANCHI,  Ivana María</td>\n",
       "      <td>FRENTE PERONISTA</td>\n",
       "    </tr>\n",
       "    <tr>\n",
       "      <th>16</th>\n",
       "      <td>81</td>\n",
       "      <td>-4.762098</td>\n",
       "      <td>0.575239</td>\n",
       "      <td>0.067909</td>\n",
       "      <td>Kirchnerismo y aliados</td>\n",
       "      <td>#007caf</td>\n",
       "      <td>diputados</td>\n",
       "      <td>mbianchi@diputados.gob.ar</td>\n",
       "      <td>BIANCHI,  María del Carmen</td>\n",
       "      <td>FRENTE PARA LA VICTORIA</td>\n",
       "    </tr>\n",
       "    <tr>\n",
       "      <th>17</th>\n",
       "      <td>83</td>\n",
       "      <td>-4.961068</td>\n",
       "      <td>-0.291306</td>\n",
       "      <td>-0.577820</td>\n",
       "      <td>Kirchnerismo y aliados</td>\n",
       "      <td>#007caf</td>\n",
       "      <td>diputados</td>\n",
       "      <td>gbidegain@diputados.gob.ar</td>\n",
       "      <td>BIDEGAIN,  Gloria Mercedes</td>\n",
       "      <td>FRENTE PARA LA VICTORIA</td>\n",
       "    </tr>\n",
       "    <tr>\n",
       "      <th>18</th>\n",
       "      <td>84</td>\n",
       "      <td>6.015426</td>\n",
       "      <td>-1.270015</td>\n",
       "      <td>0.093144</td>\n",
       "      <td>UNEN - FAP - UCR</td>\n",
       "      <td>#8eab35</td>\n",
       "      <td>diputados</td>\n",
       "      <td>bbiellac@diputados.gob.ar</td>\n",
       "      <td>BIELLA CALVET,  Bernardo José</td>\n",
       "      <td>U.DE.SO. SALTA</td>\n",
       "    </tr>\n",
       "    <tr>\n",
       "      <th>19</th>\n",
       "      <td>86</td>\n",
       "      <td>5.362292</td>\n",
       "      <td>2.060397</td>\n",
       "      <td>-1.868149</td>\n",
       "      <td>UNEN - FAP - UCR</td>\n",
       "      <td>#8eab35</td>\n",
       "      <td>diputados</td>\n",
       "      <td>hbinner@diputados.gob.ar</td>\n",
       "      <td>BINNER,  Hermes</td>\n",
       "      <td>PARTIDO SOCIALISTA</td>\n",
       "    </tr>\n",
       "    <tr>\n",
       "      <th>20</th>\n",
       "      <td>93</td>\n",
       "      <td>-5.733551</td>\n",
       "      <td>-0.590003</td>\n",
       "      <td>0.170863</td>\n",
       "      <td>Kirchnerismo y aliados</td>\n",
       "      <td>#007caf</td>\n",
       "      <td>diputados</td>\n",
       "      <td>mbrawer@diputados.gob.ar</td>\n",
       "      <td>BRAWER,  Mara</td>\n",
       "      <td>FRENTE PARA LA VICTORIA</td>\n",
       "    </tr>\n",
       "    <tr>\n",
       "      <th>21</th>\n",
       "      <td>96</td>\n",
       "      <td>-0.845502</td>\n",
       "      <td>4.453267</td>\n",
       "      <td>0.187970</td>\n",
       "      <td>Kirchnerismo y aliados</td>\n",
       "      <td>#007caf</td>\n",
       "      <td>diputados</td>\n",
       "      <td>ibromberg@diputados.gob.ar</td>\n",
       "      <td>BROMBERG,  Isaac Benjamín</td>\n",
       "      <td>FRENTE PARA LA VICTORIA</td>\n",
       "    </tr>\n",
       "    <tr>\n",
       "      <th>22</th>\n",
       "      <td>97</td>\n",
       "      <td>5.670609</td>\n",
       "      <td>2.325038</td>\n",
       "      <td>-0.097669</td>\n",
       "      <td>Peronismo no kirchnerista</td>\n",
       "      <td>#f6a619</td>\n",
       "      <td>diputados</td>\n",
       "      <td>cbrown@diputados.gob.ar</td>\n",
       "      <td>BROWN,  Carlos Ramón</td>\n",
       "      <td>FRENTE PERONISTA</td>\n",
       "    </tr>\n",
       "    <tr>\n",
       "      <th>23</th>\n",
       "      <td>100</td>\n",
       "      <td>6.799250</td>\n",
       "      <td>-0.764036</td>\n",
       "      <td>5.469624</td>\n",
       "      <td>Pro y aliados</td>\n",
       "      <td>#fbd95b</td>\n",
       "      <td>diputados</td>\n",
       "      <td>pbullrich@diputados.gob.ar</td>\n",
       "      <td>BULLRICH,  Patricia</td>\n",
       "      <td>UNIÓN POR TODOS</td>\n",
       "    </tr>\n",
       "    <tr>\n",
       "      <th>24</th>\n",
       "      <td>101</td>\n",
       "      <td>6.291866</td>\n",
       "      <td>-3.396317</td>\n",
       "      <td>-0.654518</td>\n",
       "      <td>UNEN - FAP - UCR</td>\n",
       "      <td>#8eab35</td>\n",
       "      <td>diputados</td>\n",
       "      <td>rburyaile@diputados.gob.ar</td>\n",
       "      <td>BURYAILE,  Ricardo</td>\n",
       "      <td>UNIÓN CÍVICA RADICAL</td>\n",
       "    </tr>\n",
       "    <tr>\n",
       "      <th>25</th>\n",
       "      <td>103</td>\n",
       "      <td>-5.767353</td>\n",
       "      <td>-0.685864</td>\n",
       "      <td>0.180037</td>\n",
       "      <td>Kirchnerismo y aliados</td>\n",
       "      <td>#007caf</td>\n",
       "      <td>diputados</td>\n",
       "      <td>ecalcagno@diputados.gob.ar</td>\n",
       "      <td>CALCAGNO,  Eric</td>\n",
       "      <td>FRENTE PARA LA VICTORIA</td>\n",
       "    </tr>\n",
       "    <tr>\n",
       "      <th>26</th>\n",
       "      <td>108</td>\n",
       "      <td>4.636330</td>\n",
       "      <td>2.638950</td>\n",
       "      <td>-0.638896</td>\n",
       "      <td>Massismo y aliados</td>\n",
       "      <td>#b185b7</td>\n",
       "      <td>diputados</td>\n",
       "      <td>gcamano@diputados.gob.ar</td>\n",
       "      <td>CAMAÑO,  Graciela</td>\n",
       "      <td>FRENTE PERONISTA</td>\n",
       "    </tr>\n",
       "    <tr>\n",
       "      <th>27</th>\n",
       "      <td>110</td>\n",
       "      <td>-5.641843</td>\n",
       "      <td>-0.755039</td>\n",
       "      <td>-0.005080</td>\n",
       "      <td>Kirchnerismo y aliados</td>\n",
       "      <td>#007caf</td>\n",
       "      <td>diputados</td>\n",
       "      <td>scanela@diputados.gob.ar</td>\n",
       "      <td>CANELA,  Susana Mercedes</td>\n",
       "      <td>FRENTE PARA LA VICTORIA</td>\n",
       "    </tr>\n",
       "    <tr>\n",
       "      <th>28</th>\n",
       "      <td>117</td>\n",
       "      <td>-5.360498</td>\n",
       "      <td>-0.387616</td>\n",
       "      <td>-0.411470</td>\n",
       "      <td>Kirchnerismo y aliados</td>\n",
       "      <td>#007caf</td>\n",
       "      <td>diputados</td>\n",
       "      <td>rcarlotto@diputados.gob.ar</td>\n",
       "      <td>CARLOTTO,  Remo Gerardo</td>\n",
       "      <td>FRENTE PARA LA VICTORIA</td>\n",
       "    </tr>\n",
       "    <tr>\n",
       "      <th>29</th>\n",
       "      <td>118</td>\n",
       "      <td>-5.625979</td>\n",
       "      <td>-0.720070</td>\n",
       "      <td>-0.108976</td>\n",
       "      <td>Kirchnerismo y aliados</td>\n",
       "      <td>#007caf</td>\n",
       "      <td>diputados</td>\n",
       "      <td>gcarmona@diputados.gob.ar</td>\n",
       "      <td>CARMONA,  Guillermo Ramón</td>\n",
       "      <td>FRENTE PARA LA VICTORIA</td>\n",
       "    </tr>\n",
       "    <tr>\n",
       "      <th>...</th>\n",
       "      <td>...</td>\n",
       "      <td>...</td>\n",
       "      <td>...</td>\n",
       "      <td>...</td>\n",
       "      <td>...</td>\n",
       "      <td>...</td>\n",
       "      <td>...</td>\n",
       "      <td>...</td>\n",
       "      <td>...</td>\n",
       "      <td>...</td>\n",
       "    </tr>\n",
       "    <tr>\n",
       "      <th>234</th>\n",
       "      <td>699</td>\n",
       "      <td>-4.048869</td>\n",
       "      <td>1.448398</td>\n",
       "      <td>0.308475</td>\n",
       "      <td>Otros</td>\n",
       "      <td>#A6A6A6</td>\n",
       "      <td>diputados</td>\n",
       "      <td>asanmartin@diputados.gob.ar</td>\n",
       "      <td>san martín,  adrián</td>\n",
       "      <td>MOVIMIENTO POPULAR NEUQUINO</td>\n",
       "    </tr>\n",
       "    <tr>\n",
       "      <th>235</th>\n",
       "      <td>700</td>\n",
       "      <td>-4.385757</td>\n",
       "      <td>0.593650</td>\n",
       "      <td>-0.505851</td>\n",
       "      <td>Kirchnerismo y aliados</td>\n",
       "      <td>#007caf</td>\n",
       "      <td>diputados</td>\n",
       "      <td>oamartinez@diputados.gob.ar</td>\n",
       "      <td>martínez,  oscar anselmo</td>\n",
       "      <td>MOVIMIENTO SOLIDARIO POPULAR</td>\n",
       "    </tr>\n",
       "    <tr>\n",
       "      <th>236</th>\n",
       "      <td>701</td>\n",
       "      <td>0.885485</td>\n",
       "      <td>2.168656</td>\n",
       "      <td>0.614397</td>\n",
       "      <td>Otros</td>\n",
       "      <td>#A6A6A6</td>\n",
       "      <td>diputados</td>\n",
       "      <td>gboyadjian@diputados.gob.ar</td>\n",
       "      <td>boyadjian,  graciela eunice</td>\n",
       "      <td>MOVIMIENTO POPULAR FUEGUINO</td>\n",
       "    </tr>\n",
       "    <tr>\n",
       "      <th>237</th>\n",
       "      <td>703</td>\n",
       "      <td>-5.750840</td>\n",
       "      <td>-0.683120</td>\n",
       "      <td>0.150904</td>\n",
       "      <td>Kirchnerismo y aliados</td>\n",
       "      <td>#007caf</td>\n",
       "      <td>diputados</td>\n",
       "      <td>ncarrizo@diputados.gob.ar</td>\n",
       "      <td>CARRIZO,  NILDA MABEL</td>\n",
       "      <td>FRENTE PARA LA VICTORIA</td>\n",
       "    </tr>\n",
       "    <tr>\n",
       "      <th>238</th>\n",
       "      <td>705</td>\n",
       "      <td>-5.412901</td>\n",
       "      <td>-0.167056</td>\n",
       "      <td>0.414625</td>\n",
       "      <td>Kirchnerismo y aliados</td>\n",
       "      <td>#007caf</td>\n",
       "      <td>diputados</td>\n",
       "      <td>mgomezb@diputados.gob.ar</td>\n",
       "      <td>GÓMEZ BULL,  MAURICIO</td>\n",
       "      <td>FRENTE PARA LA VICTORIA</td>\n",
       "    </tr>\n",
       "    <tr>\n",
       "      <th>239</th>\n",
       "      <td>707</td>\n",
       "      <td>-5.162647</td>\n",
       "      <td>-0.448005</td>\n",
       "      <td>0.040474</td>\n",
       "      <td>Kirchnerismo y aliados</td>\n",
       "      <td>#007caf</td>\n",
       "      <td>diputados</td>\n",
       "      <td>tmadera@diputados.gob.ar</td>\n",
       "      <td>MADERA,  TERESITA</td>\n",
       "      <td>FRENTE PARA LA VICTORIA</td>\n",
       "    </tr>\n",
       "    <tr>\n",
       "      <th>240</th>\n",
       "      <td>708</td>\n",
       "      <td>-5.723727</td>\n",
       "      <td>-0.688239</td>\n",
       "      <td>0.129823</td>\n",
       "      <td>Kirchnerismo y aliados</td>\n",
       "      <td>#007caf</td>\n",
       "      <td>diputados</td>\n",
       "      <td>vmagario@diputados.gob.ar</td>\n",
       "      <td>MAGARIO,  VERÓNICA</td>\n",
       "      <td>FRENTE PARA LA VICTORIA</td>\n",
       "    </tr>\n",
       "    <tr>\n",
       "      <th>241</th>\n",
       "      <td>710</td>\n",
       "      <td>-5.456613</td>\n",
       "      <td>-0.206726</td>\n",
       "      <td>0.479411</td>\n",
       "      <td>Kirchnerismo y aliados</td>\n",
       "      <td>#007caf</td>\n",
       "      <td>diputados</td>\n",
       "      <td>eseminara@diputados.gob.ar</td>\n",
       "      <td>SEMINARA,  EDUARDO JORGE</td>\n",
       "      <td>FRENTE PARA LA VICTORIA</td>\n",
       "    </tr>\n",
       "    <tr>\n",
       "      <th>242</th>\n",
       "      <td>711</td>\n",
       "      <td>-5.678652</td>\n",
       "      <td>-0.609853</td>\n",
       "      <td>0.188767</td>\n",
       "      <td>Kirchnerismo y aliados</td>\n",
       "      <td>#007caf</td>\n",
       "      <td>diputados</td>\n",
       "      <td>htentor@diputados.gob.ar</td>\n",
       "      <td>TENTOR,  HÉCTOR</td>\n",
       "      <td>FRENTE PARA LA VICTORIA</td>\n",
       "    </tr>\n",
       "    <tr>\n",
       "      <th>243</th>\n",
       "      <td>712</td>\n",
       "      <td>-5.065575</td>\n",
       "      <td>-0.304320</td>\n",
       "      <td>-0.002907</td>\n",
       "      <td>Kirchnerismo y aliados</td>\n",
       "      <td>#007caf</td>\n",
       "      <td>diputados</td>\n",
       "      <td>ntomassi@diputados.gob.ar</td>\n",
       "      <td>TOMASSI,  NÉSTOR</td>\n",
       "      <td>FRENTE PARA LA VICTORIA</td>\n",
       "    </tr>\n",
       "    <tr>\n",
       "      <th>244</th>\n",
       "      <td>713</td>\n",
       "      <td>-2.631064</td>\n",
       "      <td>1.908525</td>\n",
       "      <td>0.741196</td>\n",
       "      <td>Otros</td>\n",
       "      <td>#A6A6A6</td>\n",
       "      <td>diputados</td>\n",
       "      <td>mvillarm@diputados.gob.ar</td>\n",
       "      <td>VILLAR MOLINA,  MARÍA INÉS</td>\n",
       "      <td>MOVIMIENTO POPULAR NEUQUINO</td>\n",
       "    </tr>\n",
       "    <tr>\n",
       "      <th>245</th>\n",
       "      <td>715</td>\n",
       "      <td>6.764725</td>\n",
       "      <td>-2.299126</td>\n",
       "      <td>-0.216480</td>\n",
       "      <td>UNEN - FAP - UCR</td>\n",
       "      <td>#8eab35</td>\n",
       "      <td>diputados</td>\n",
       "      <td>ccarrizo@diputados.gob.ar</td>\n",
       "      <td>CARRIZO,  ANA CARLA</td>\n",
       "      <td>UNIÓN CÍVICA RADICAL</td>\n",
       "    </tr>\n",
       "    <tr>\n",
       "      <th>246</th>\n",
       "      <td>717</td>\n",
       "      <td>6.482911</td>\n",
       "      <td>-3.410978</td>\n",
       "      <td>-0.837384</td>\n",
       "      <td>UNEN - FAP - UCR</td>\n",
       "      <td>#8eab35</td>\n",
       "      <td>diputados</td>\n",
       "      <td>jdagostino@diputados.gob.ar</td>\n",
       "      <td>D'AGOSTINO,  JORGE</td>\n",
       "      <td>UNIÓN CÍVICA RADICAL</td>\n",
       "    </tr>\n",
       "    <tr>\n",
       "      <th>247</th>\n",
       "      <td>718</td>\n",
       "      <td>6.373065</td>\n",
       "      <td>-4.188382</td>\n",
       "      <td>-1.218105</td>\n",
       "      <td>UNEN - FAP - UCR</td>\n",
       "      <td>#8eab35</td>\n",
       "      <td>diputados</td>\n",
       "      <td>pgimenez@diputados.gob.ar</td>\n",
       "      <td>GIMÉNEZ,  PATRICIA</td>\n",
       "      <td>UNIÓN CÍVICA RADICAL</td>\n",
       "    </tr>\n",
       "    <tr>\n",
       "      <th>248</th>\n",
       "      <td>720</td>\n",
       "      <td>5.620855</td>\n",
       "      <td>-3.356113</td>\n",
       "      <td>-1.180976</td>\n",
       "      <td>UNEN - FAP - UCR</td>\n",
       "      <td>#8eab35</td>\n",
       "      <td>diputados</td>\n",
       "      <td>holivares@diputados.gob.ar</td>\n",
       "      <td>OLIVARES,  HÉCTOR ENRIQUE</td>\n",
       "      <td>UNIÓN CÍVICA RADICAL</td>\n",
       "    </tr>\n",
       "    <tr>\n",
       "      <th>249</th>\n",
       "      <td>723</td>\n",
       "      <td>6.280506</td>\n",
       "      <td>-1.692140</td>\n",
       "      <td>-1.057671</td>\n",
       "      <td>UNEN - FAP - UCR</td>\n",
       "      <td>#8eab35</td>\n",
       "      <td>diputados</td>\n",
       "      <td>msemhan@diputados.gob.ar</td>\n",
       "      <td>SEMHAN,  MARÍA DE LAS MERCEDES</td>\n",
       "      <td>UNIÓN CÍVICA RADICAL</td>\n",
       "    </tr>\n",
       "    <tr>\n",
       "      <th>250</th>\n",
       "      <td>729</td>\n",
       "      <td>4.760676</td>\n",
       "      <td>0.798011</td>\n",
       "      <td>-0.274328</td>\n",
       "      <td>Massismo y aliados</td>\n",
       "      <td>#b185b7</td>\n",
       "      <td>diputados</td>\n",
       "      <td>mdalessandro@diputados.gob.ar</td>\n",
       "      <td>D'ALESSANDRO,  MARCELO</td>\n",
       "      <td>FRENTE RENOVADOR</td>\n",
       "    </tr>\n",
       "    <tr>\n",
       "      <th>251</th>\n",
       "      <td>730</td>\n",
       "      <td>2.445833</td>\n",
       "      <td>1.319574</td>\n",
       "      <td>-0.210202</td>\n",
       "      <td>Massismo y aliados</td>\n",
       "      <td>#b185b7</td>\n",
       "      <td>diputados</td>\n",
       "      <td>hdaer@diputados.gob.ar</td>\n",
       "      <td>DAER,  HÉCTOR RICARDO</td>\n",
       "      <td>FRENTE RENOVADOR</td>\n",
       "    </tr>\n",
       "    <tr>\n",
       "      <th>252</th>\n",
       "      <td>733</td>\n",
       "      <td>2.109045</td>\n",
       "      <td>0.144624</td>\n",
       "      <td>-0.505094</td>\n",
       "      <td>Massismo y aliados</td>\n",
       "      <td>#b185b7</td>\n",
       "      <td>diputados</td>\n",
       "      <td>rgiustozzi@diputados.gob.ar</td>\n",
       "      <td>GIUSTOZZI,  DARÍO</td>\n",
       "      <td>FRENTE RENOVADOR</td>\n",
       "    </tr>\n",
       "    <tr>\n",
       "      <th>253</th>\n",
       "      <td>736</td>\n",
       "      <td>6.230021</td>\n",
       "      <td>-0.601318</td>\n",
       "      <td>5.296043</td>\n",
       "      <td>Pro y aliados</td>\n",
       "      <td>#fbd95b</td>\n",
       "      <td>diputados</td>\n",
       "      <td>fsturzenegger@diputados.gob.ar</td>\n",
       "      <td>STURZENEGGER,  FEDERICO</td>\n",
       "      <td>UNIÓN PRO</td>\n",
       "    </tr>\n",
       "    <tr>\n",
       "      <th>254</th>\n",
       "      <td>737</td>\n",
       "      <td>4.156309</td>\n",
       "      <td>1.324727</td>\n",
       "      <td>3.531712</td>\n",
       "      <td>Pro y aliados</td>\n",
       "      <td>#fbd95b</td>\n",
       "      <td>diputados</td>\n",
       "      <td>mtorresdelsel@diputados.gob.ar</td>\n",
       "      <td>TORRES DEL SEL,  MIGUEL</td>\n",
       "      <td>UNIÓN PRO</td>\n",
       "    </tr>\n",
       "    <tr>\n",
       "      <th>255</th>\n",
       "      <td>738</td>\n",
       "      <td>4.481691</td>\n",
       "      <td>-2.107590</td>\n",
       "      <td>-0.480405</td>\n",
       "      <td>Massismo y aliados</td>\n",
       "      <td>#b185b7</td>\n",
       "      <td>diputados</td>\n",
       "      <td>mtundis@diputados.gob.ar</td>\n",
       "      <td>TUNDIS,  MIRTA</td>\n",
       "      <td>FRENTE RENOVADOR</td>\n",
       "    </tr>\n",
       "    <tr>\n",
       "      <th>256</th>\n",
       "      <td>740</td>\n",
       "      <td>7.347937</td>\n",
       "      <td>-0.301292</td>\n",
       "      <td>3.734303</td>\n",
       "      <td>Pro y aliados</td>\n",
       "      <td>#fbd95b</td>\n",
       "      <td>diputados</td>\n",
       "      <td>ecaceres@diputados.gob.ar</td>\n",
       "      <td>CÁCERES,  EDUARDO</td>\n",
       "      <td>UNIÓN PRO</td>\n",
       "    </tr>\n",
       "    <tr>\n",
       "      <th>257</th>\n",
       "      <td>745</td>\n",
       "      <td>-4.446112</td>\n",
       "      <td>0.492914</td>\n",
       "      <td>-1.506427</td>\n",
       "      <td>Kirchnerismo y aliados</td>\n",
       "      <td>#007caf</td>\n",
       "      <td>diputados</td>\n",
       "      <td></td>\n",
       "      <td>BERNABEY,  RAMÓN ERNESTO</td>\n",
       "      <td>NO INTEGRA BLOQUE</td>\n",
       "    </tr>\n",
       "    <tr>\n",
       "      <th>258</th>\n",
       "      <td>763</td>\n",
       "      <td>6.266590</td>\n",
       "      <td>-1.297668</td>\n",
       "      <td>4.961495</td>\n",
       "      <td>Pro y aliados</td>\n",
       "      <td>#fbd95b</td>\n",
       "      <td>diputados</td>\n",
       "      <td>csliermann@diputados.gob.ar</td>\n",
       "      <td>Schmidt Liermann, Cornelia</td>\n",
       "      <td>PRO</td>\n",
       "    </tr>\n",
       "    <tr>\n",
       "      <th>259</th>\n",
       "      <td>765</td>\n",
       "      <td>5.848482</td>\n",
       "      <td>3.602665</td>\n",
       "      <td>0.836548</td>\n",
       "      <td>Pro y aliados</td>\n",
       "      <td>#fbd95b</td>\n",
       "      <td>diputados</td>\n",
       "      <td></td>\n",
       "      <td>Laspina,  Luciano</td>\n",
       "      <td>UNIÓN PRO</td>\n",
       "    </tr>\n",
       "    <tr>\n",
       "      <th>260</th>\n",
       "      <td>766</td>\n",
       "      <td>-0.068917</td>\n",
       "      <td>4.161108</td>\n",
       "      <td>-2.417735</td>\n",
       "      <td></td>\n",
       "      <td></td>\n",
       "      <td>diputados</td>\n",
       "      <td></td>\n",
       "      <td>Pasini, Ariel Osvaldo Eloy</td>\n",
       "      <td>FRENTE PARA LA VICTORIA</td>\n",
       "    </tr>\n",
       "    <tr>\n",
       "      <th>261</th>\n",
       "      <td>767</td>\n",
       "      <td>4.568847</td>\n",
       "      <td>4.037804</td>\n",
       "      <td>-1.684544</td>\n",
       "      <td></td>\n",
       "      <td></td>\n",
       "      <td>diputados</td>\n",
       "      <td></td>\n",
       "      <td>Bregman,  Myriam</td>\n",
       "      <td>PTS - FRENTE DE IZQUIERDA</td>\n",
       "    </tr>\n",
       "    <tr>\n",
       "      <th>262</th>\n",
       "      <td>768</td>\n",
       "      <td>4.019398</td>\n",
       "      <td>4.417477</td>\n",
       "      <td>-1.775098</td>\n",
       "      <td>UNEN - FAP - UCR</td>\n",
       "      <td>#8eab35</td>\n",
       "      <td>diputados</td>\n",
       "      <td></td>\n",
       "      <td>Fernández Blanco,  MarÍA Cristina</td>\n",
       "      <td>UNIÓN CÍVICA RADICAL</td>\n",
       "    </tr>\n",
       "    <tr>\n",
       "      <th>263</th>\n",
       "      <td>1176</td>\n",
       "      <td>-5.216951</td>\n",
       "      <td>0.216818</td>\n",
       "      <td>-0.590593</td>\n",
       "      <td>Kirchnerismo y aliados</td>\n",
       "      <td>#007caf</td>\n",
       "      <td>diputados</td>\n",
       "      <td>aferreyra@diputados.gob.ar</td>\n",
       "      <td>Ferreyra,  Araceli Susana Del Rosario</td>\n",
       "      <td></td>\n",
       "    </tr>\n",
       "  </tbody>\n",
       "</table>\n",
       "<p>264 rows × 10 columns</p>\n",
       "</div>"
      ],
      "text/plain": [
       "     legislador_id       PC1       PC2       PC3                 agrupacion  \\\n",
       "0                1 -0.581584  3.205870 -0.160135     Kirchnerismo y aliados   \n",
       "1                8  5.984325  1.039177 -1.520055           UNEN - FAP - UCR   \n",
       "2               10  3.960056 -0.156964  0.767200  Peronismo no kirchnerista   \n",
       "3               19  5.452833 -1.578642 -0.600426           UNEN - FAP - UCR   \n",
       "4               22  6.595750  2.366079  2.555453              Pro y aliados   \n",
       "5               23 -5.770926 -0.774505  0.212649     Kirchnerismo y aliados   \n",
       "6               38  4.636692 -0.676913 -1.173376           UNEN - FAP - UCR   \n",
       "7               40 -4.400734 -0.719819  0.666265     Kirchnerismo y aliados   \n",
       "8               45  4.639838  3.211533 -0.393616         Massismo y aliados   \n",
       "9               48 -5.480399 -0.799735 -0.190062     Kirchnerismo y aliados   \n",
       "10              52 -5.231306  0.080842 -0.121284     Kirchnerismo y aliados   \n",
       "11              57  5.618775 -3.303442 -0.762497           UNEN - FAP - UCR   \n",
       "12              63 -5.734283 -0.576999  0.068810     Kirchnerismo y aliados   \n",
       "13              65  5.807663 -3.615614 -0.388757           UNEN - FAP - UCR   \n",
       "14              67 -5.538264 -0.555725  0.230412     Kirchnerismo y aliados   \n",
       "15              80  4.313128  0.512184  0.581897  Peronismo no kirchnerista   \n",
       "16              81 -4.762098  0.575239  0.067909     Kirchnerismo y aliados   \n",
       "17              83 -4.961068 -0.291306 -0.577820     Kirchnerismo y aliados   \n",
       "18              84  6.015426 -1.270015  0.093144           UNEN - FAP - UCR   \n",
       "19              86  5.362292  2.060397 -1.868149           UNEN - FAP - UCR   \n",
       "20              93 -5.733551 -0.590003  0.170863     Kirchnerismo y aliados   \n",
       "21              96 -0.845502  4.453267  0.187970     Kirchnerismo y aliados   \n",
       "22              97  5.670609  2.325038 -0.097669  Peronismo no kirchnerista   \n",
       "23             100  6.799250 -0.764036  5.469624              Pro y aliados   \n",
       "24             101  6.291866 -3.396317 -0.654518           UNEN - FAP - UCR   \n",
       "25             103 -5.767353 -0.685864  0.180037     Kirchnerismo y aliados   \n",
       "26             108  4.636330  2.638950 -0.638896         Massismo y aliados   \n",
       "27             110 -5.641843 -0.755039 -0.005080     Kirchnerismo y aliados   \n",
       "28             117 -5.360498 -0.387616 -0.411470     Kirchnerismo y aliados   \n",
       "29             118 -5.625979 -0.720070 -0.108976     Kirchnerismo y aliados   \n",
       "..             ...       ...       ...       ...                        ...   \n",
       "234            699 -4.048869  1.448398  0.308475                      Otros   \n",
       "235            700 -4.385757  0.593650 -0.505851     Kirchnerismo y aliados   \n",
       "236            701  0.885485  2.168656  0.614397                      Otros   \n",
       "237            703 -5.750840 -0.683120  0.150904     Kirchnerismo y aliados   \n",
       "238            705 -5.412901 -0.167056  0.414625     Kirchnerismo y aliados   \n",
       "239            707 -5.162647 -0.448005  0.040474     Kirchnerismo y aliados   \n",
       "240            708 -5.723727 -0.688239  0.129823     Kirchnerismo y aliados   \n",
       "241            710 -5.456613 -0.206726  0.479411     Kirchnerismo y aliados   \n",
       "242            711 -5.678652 -0.609853  0.188767     Kirchnerismo y aliados   \n",
       "243            712 -5.065575 -0.304320 -0.002907     Kirchnerismo y aliados   \n",
       "244            713 -2.631064  1.908525  0.741196                      Otros   \n",
       "245            715  6.764725 -2.299126 -0.216480           UNEN - FAP - UCR   \n",
       "246            717  6.482911 -3.410978 -0.837384           UNEN - FAP - UCR   \n",
       "247            718  6.373065 -4.188382 -1.218105           UNEN - FAP - UCR   \n",
       "248            720  5.620855 -3.356113 -1.180976           UNEN - FAP - UCR   \n",
       "249            723  6.280506 -1.692140 -1.057671           UNEN - FAP - UCR   \n",
       "250            729  4.760676  0.798011 -0.274328         Massismo y aliados   \n",
       "251            730  2.445833  1.319574 -0.210202         Massismo y aliados   \n",
       "252            733  2.109045  0.144624 -0.505094         Massismo y aliados   \n",
       "253            736  6.230021 -0.601318  5.296043              Pro y aliados   \n",
       "254            737  4.156309  1.324727  3.531712              Pro y aliados   \n",
       "255            738  4.481691 -2.107590 -0.480405         Massismo y aliados   \n",
       "256            740  7.347937 -0.301292  3.734303              Pro y aliados   \n",
       "257            745 -4.446112  0.492914 -1.506427     Kirchnerismo y aliados   \n",
       "258            763  6.266590 -1.297668  4.961495              Pro y aliados   \n",
       "259            765  5.848482  3.602665  0.836548              Pro y aliados   \n",
       "260            766 -0.068917  4.161108 -2.417735                              \n",
       "261            767  4.568847  4.037804 -1.684544                              \n",
       "262            768  4.019398  4.417477 -1.775098           UNEN - FAP - UCR   \n",
       "263           1176 -5.216951  0.216818 -0.590593     Kirchnerismo y aliados   \n",
       "\n",
       "    agrupacion_color     camara                            mail  \\\n",
       "0            #007caf  diputados     nabdaladem@diputados.gob.ar   \n",
       "1            #8eab35  diputados         oaguad@diputados.gob.ar   \n",
       "2            #f6a619  diputados       laguilar@diputados.gob.ar   \n",
       "3            #8eab35  diputados      ralfonsin@diputados.gob.ar   \n",
       "4            #fbd95b  diputados        lalonso@diputados.gob.ar   \n",
       "5            #007caf  diputados        malonso@diputados.gob.ar   \n",
       "6            #8eab35  diputados      aargumedo@diputados.gob.ar   \n",
       "7            #007caf  diputados       aarregui@diputados.gob.ar   \n",
       "8            #b185b7  diputados        aasseff@diputados.gob.ar   \n",
       "9            #007caf  diputados       havoscan@diputados.gob.ar   \n",
       "10           #007caf  diputados       mbalcedo@diputados.gob.ar   \n",
       "11           #8eab35  diputados     obarchetta@diputados.gob.ar   \n",
       "12           #007caf  diputados      lbasterra@diputados.gob.ar   \n",
       "13           #8eab35  diputados         mbazze@diputados.gob.ar   \n",
       "14           #007caf  diputados        nbedano@diputados.gob.ar   \n",
       "15           #f6a619  diputados       ibianchi@diputados.gob.ar   \n",
       "16           #007caf  diputados       mbianchi@diputados.gob.ar   \n",
       "17           #007caf  diputados      gbidegain@diputados.gob.ar   \n",
       "18           #8eab35  diputados       bbiellac@diputados.gob.ar   \n",
       "19           #8eab35  diputados        hbinner@diputados.gob.ar   \n",
       "20           #007caf  diputados        mbrawer@diputados.gob.ar   \n",
       "21           #007caf  diputados      ibromberg@diputados.gob.ar   \n",
       "22           #f6a619  diputados         cbrown@diputados.gob.ar   \n",
       "23           #fbd95b  diputados      pbullrich@diputados.gob.ar   \n",
       "24           #8eab35  diputados      rburyaile@diputados.gob.ar   \n",
       "25           #007caf  diputados      ecalcagno@diputados.gob.ar   \n",
       "26           #b185b7  diputados        gcamano@diputados.gob.ar   \n",
       "27           #007caf  diputados        scanela@diputados.gob.ar   \n",
       "28           #007caf  diputados      rcarlotto@diputados.gob.ar   \n",
       "29           #007caf  diputados       gcarmona@diputados.gob.ar   \n",
       "..               ...        ...                             ...   \n",
       "234          #A6A6A6  diputados     asanmartin@diputados.gob.ar   \n",
       "235          #007caf  diputados     oamartinez@diputados.gob.ar   \n",
       "236          #A6A6A6  diputados     gboyadjian@diputados.gob.ar   \n",
       "237          #007caf  diputados       ncarrizo@diputados.gob.ar   \n",
       "238          #007caf  diputados        mgomezb@diputados.gob.ar   \n",
       "239          #007caf  diputados        tmadera@diputados.gob.ar   \n",
       "240          #007caf  diputados       vmagario@diputados.gob.ar   \n",
       "241          #007caf  diputados      eseminara@diputados.gob.ar   \n",
       "242          #007caf  diputados        htentor@diputados.gob.ar   \n",
       "243          #007caf  diputados       ntomassi@diputados.gob.ar   \n",
       "244          #A6A6A6  diputados       mvillarm@diputados.gob.ar   \n",
       "245          #8eab35  diputados       ccarrizo@diputados.gob.ar   \n",
       "246          #8eab35  diputados     jdagostino@diputados.gob.ar   \n",
       "247          #8eab35  diputados       pgimenez@diputados.gob.ar   \n",
       "248          #8eab35  diputados      holivares@diputados.gob.ar   \n",
       "249          #8eab35  diputados        msemhan@diputados.gob.ar   \n",
       "250          #b185b7  diputados   mdalessandro@diputados.gob.ar   \n",
       "251          #b185b7  diputados          hdaer@diputados.gob.ar   \n",
       "252          #b185b7  diputados     rgiustozzi@diputados.gob.ar   \n",
       "253          #fbd95b  diputados  fsturzenegger@diputados.gob.ar   \n",
       "254          #fbd95b  diputados  mtorresdelsel@diputados.gob.ar   \n",
       "255          #b185b7  diputados        mtundis@diputados.gob.ar   \n",
       "256          #fbd95b  diputados       ecaceres@diputados.gob.ar   \n",
       "257          #007caf  diputados                                   \n",
       "258          #fbd95b  diputados     csliermann@diputados.gob.ar   \n",
       "259          #fbd95b  diputados                                   \n",
       "260                   diputados                                   \n",
       "261                   diputados                                   \n",
       "262          #8eab35  diputados                                   \n",
       "263          #007caf  diputados      aferreyra@diputados.gob.ar   \n",
       "\n",
       "                                    nombre                       partido  \n",
       "0       Abdala de Matarazzo,  Norma Amanda    FRENTE CÍVICO POR SANTIAGO  \n",
       "1                       Aguad,  Oscar Raúl          UNIÓN CÍVICA RADICAL  \n",
       "2                    AGUILAR,  Lino Walter              FRENTE PERONISTA  \n",
       "3                  ALFONSÍN,  Ricardo Luis          UNIÓN CÍVICA RADICAL  \n",
       "4                           ALONSO,  Laura                           PRO  \n",
       "5                       ALONSO,  María Luz       FRENTE PARA LA VICTORIA  \n",
       "6                 ARGUMEDO,  Alcira Susana                  PROYECTO SUR  \n",
       "7                 ARREGUI,  Andrés Roberto       FRENTE PARA LA VICTORIA  \n",
       "8                  ASSEFF,  Alberto Emilio              FRENTE PERONISTA  \n",
       "9                         AVOSCÁN,  Herman       FRENTE PARA LA VICTORIA  \n",
       "10                   BALCEDO,  María Ester       FRENTE PARA LA VICTORIA  \n",
       "11                BARCHETTA,  Omar Segundo            PARTIDO SOCIALISTA  \n",
       "12                 BASTERRA,  Luis Eugenio       FRENTE PARA LA VICTORIA  \n",
       "13                    BAZZE,  Miguel Ángel          UNIÓN CÍVICA RADICAL  \n",
       "14                    BEDANO,  Nora Esther       FRENTE PARA LA VICTORIA  \n",
       "15                   BIANCHI,  Ivana María              FRENTE PERONISTA  \n",
       "16              BIANCHI,  María del Carmen       FRENTE PARA LA VICTORIA  \n",
       "17              BIDEGAIN,  Gloria Mercedes       FRENTE PARA LA VICTORIA  \n",
       "18           BIELLA CALVET,  Bernardo José                U.DE.SO. SALTA  \n",
       "19                         BINNER,  Hermes            PARTIDO SOCIALISTA  \n",
       "20                           BRAWER,  Mara       FRENTE PARA LA VICTORIA  \n",
       "21               BROMBERG,  Isaac Benjamín       FRENTE PARA LA VICTORIA  \n",
       "22                    BROWN,  Carlos Ramón              FRENTE PERONISTA  \n",
       "23                     BULLRICH,  Patricia               UNIÓN POR TODOS  \n",
       "24                      BURYAILE,  Ricardo          UNIÓN CÍVICA RADICAL  \n",
       "25                         CALCAGNO,  Eric       FRENTE PARA LA VICTORIA  \n",
       "26                       CAMAÑO,  Graciela              FRENTE PERONISTA  \n",
       "27                CANELA,  Susana Mercedes       FRENTE PARA LA VICTORIA  \n",
       "28                 CARLOTTO,  Remo Gerardo       FRENTE PARA LA VICTORIA  \n",
       "29               CARMONA,  Guillermo Ramón       FRENTE PARA LA VICTORIA  \n",
       "..                                     ...                           ...  \n",
       "234                    san martín,  adrián   MOVIMIENTO POPULAR NEUQUINO  \n",
       "235               martínez,  oscar anselmo  MOVIMIENTO SOLIDARIO POPULAR  \n",
       "236            boyadjian,  graciela eunice   MOVIMIENTO POPULAR FUEGUINO  \n",
       "237                  CARRIZO,  NILDA MABEL       FRENTE PARA LA VICTORIA  \n",
       "238                  GÓMEZ BULL,  MAURICIO       FRENTE PARA LA VICTORIA  \n",
       "239                      MADERA,  TERESITA       FRENTE PARA LA VICTORIA  \n",
       "240                     MAGARIO,  VERÓNICA       FRENTE PARA LA VICTORIA  \n",
       "241               SEMINARA,  EDUARDO JORGE       FRENTE PARA LA VICTORIA  \n",
       "242                        TENTOR,  HÉCTOR       FRENTE PARA LA VICTORIA  \n",
       "243                       TOMASSI,  NÉSTOR       FRENTE PARA LA VICTORIA  \n",
       "244             VILLAR MOLINA,  MARÍA INÉS   MOVIMIENTO POPULAR NEUQUINO  \n",
       "245                    CARRIZO,  ANA CARLA          UNIÓN CÍVICA RADICAL  \n",
       "246                     D'AGOSTINO,  JORGE          UNIÓN CÍVICA RADICAL  \n",
       "247                     GIMÉNEZ,  PATRICIA          UNIÓN CÍVICA RADICAL  \n",
       "248              OLIVARES,  HÉCTOR ENRIQUE          UNIÓN CÍVICA RADICAL  \n",
       "249         SEMHAN,  MARÍA DE LAS MERCEDES          UNIÓN CÍVICA RADICAL  \n",
       "250                 D'ALESSANDRO,  MARCELO              FRENTE RENOVADOR  \n",
       "251                  DAER,  HÉCTOR RICARDO              FRENTE RENOVADOR  \n",
       "252                      GIUSTOZZI,  DARÍO              FRENTE RENOVADOR  \n",
       "253                STURZENEGGER,  FEDERICO                     UNIÓN PRO  \n",
       "254                TORRES DEL SEL,  MIGUEL                     UNIÓN PRO  \n",
       "255                         TUNDIS,  MIRTA              FRENTE RENOVADOR  \n",
       "256                      CÁCERES,  EDUARDO                     UNIÓN PRO  \n",
       "257               BERNABEY,  RAMÓN ERNESTO             NO INTEGRA BLOQUE  \n",
       "258             Schmidt Liermann, Cornelia                           PRO  \n",
       "259                      Laspina,  Luciano                     UNIÓN PRO  \n",
       "260             Pasini, Ariel Osvaldo Eloy       FRENTE PARA LA VICTORIA  \n",
       "261                       Bregman,  Myriam     PTS - FRENTE DE IZQUIERDA  \n",
       "262      Fernández Blanco,  MarÍA Cristina          UNIÓN CÍVICA RADICAL  \n",
       "263  Ferreyra,  Araceli Susana Del Rosario                                \n",
       "\n",
       "[264 rows x 10 columns]"
      ]
     },
     "execution_count": 222,
     "metadata": {},
     "output_type": "execute_result"
    }
   ],
   "source": [
    "df_pc_member"
   ]
  },
  {
   "cell_type": "code",
   "execution_count": 218,
   "metadata": {
    "collapsed": false
   },
   "outputs": [
    {
     "name": "stdout",
     "output_type": "stream",
     "text": [
      "Using matplotlib backend: MacOSX\n"
     ]
    }
   ],
   "source": [
    "%matplotlib"
   ]
  },
  {
   "cell_type": "code",
   "execution_count": 217,
   "metadata": {
    "collapsed": false
   },
   "outputs": [
    {
     "name": "stdout",
     "output_type": "stream",
     "text": [
      "Using matplotlib backend: MacOSX\n"
     ]
    },
    {
     "data": {
      "text/plain": [
       "9"
      ]
     },
     "execution_count": 217,
     "metadata": {},
     "output_type": "execute_result"
    }
   ],
   "source": [
    "%matplotlib\n",
    "\n",
    "x = np.array(X_reduced.T[0, :]).astype('float')\n",
    "y = np.array(X_reduced.T[1, :]).astype('float')\n",
    "z = np.array(X_reduced.T[2, :]).astype('float')\n",
    "\n",
    "from mpl_toolkits.mplot3d import Axes3D\n",
    "fig = plt.figure()\n",
    "ax = fig.add_subplot(111, projection='3d')\n",
    "ax.scatter(x, y, z, picker=True, s=100)\n",
    "\n",
    "def onpick(X_3D, event):\n",
    "    #print(event)\n",
    "    if hasattr(onpick, '_label'):\n",
    "        #pass\n",
    "        onpick._label.remove()\n",
    "    thisline = event.artist\n",
    "    ind = event.ind\n",
    "    #print(type(ind))\n",
    "    #print(X_3D[0, ind])\n",
    "    names = df_matrix.iloc[ind].index.values\n",
    "    #print(names)\n",
    "    label = ('\\n'.join(names))\n",
    "    pos = (X_3D[0, ind[0]], X_3D[1, ind[0]], X_3D[2, ind[0]])\n",
    "    #onpick._label = ax.set_title(label\n",
    "    onpick._label = ax.text(*pos, s=label)\n",
    "    fig.canvas.draw()\n",
    "    \n",
    "fig.canvas.mpl_connect('pick_event', lambda e: onpick(X_reduced.T, e))"
   ]
  }
 ],
 "metadata": {
  "kernelspec": {
   "display_name": "Python 3",
   "language": "python",
   "name": "python3"
  },
  "language_info": {
   "codemirror_mode": {
    "name": "ipython",
    "version": 3
   },
   "file_extension": ".py",
   "mimetype": "text/x-python",
   "name": "python",
   "nbconvert_exporter": "python",
   "pygments_lexer": "ipython3",
   "version": "3.5.1"
  }
 },
 "nbformat": 4,
 "nbformat_minor": 0
}
